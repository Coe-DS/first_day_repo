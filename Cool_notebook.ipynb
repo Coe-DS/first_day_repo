{
 "cells": [
  {
   "cell_type": "markdown",
   "id": "d7aa3985",
   "metadata": {},
   "source": [
    "# My Cool Notebook\n",
    "\n",
    "---"
   ]
  },
  {
   "cell_type": "markdown",
   "id": "7ae6098d",
   "metadata": {},
   "source": [
    "#### Read in Data"
   ]
  },
  {
   "cell_type": "code",
   "execution_count": 1,
   "id": "02fe0184",
   "metadata": {},
   "outputs": [],
   "source": [
    "with open(\"meditation_XVII.txt\",\"r\") as fid:\n",
    "    data = fid.read()"
   ]
  },
  {
   "cell_type": "code",
   "execution_count": 2,
   "id": "700b4c74",
   "metadata": {},
   "outputs": [
    {
     "name": "stdout",
     "output_type": "stream",
     "text": [
      "Perchance, he for whom this bell tolls may be so ill, as that he knows not it tolls for him; and perchance I may think myself so much better than I am, as that they who are about me, and see my state, may have caused it to toll for me, and I know not that. The church is catholic, universal, so are all her actions; all that she does belongs to all. When she baptizes a child, that action concerns me; for that child is thereby connected to that body which is my head too, and ingrafted into that body whereof I am a member. And when she buries a man, that action concerns me: all mankind is of one author, and is one volume; when one man dies, one chapter is not torn out of the book, but translated into a better language; and every chapter must be so translated; God employs several translators; some pieces are translated by age, some by sickness, some by war, some by justice; but God's hand is in every translation, and his hand shall bind up all our scattered leaves again for that library where every book shall lie open to one another. As therefore the bell that rings to a sermon calls not upon the preacher only, but upon the congregation to come, so this bell calls us all; but how much more me, who am brought so near the door by this sickness.\n",
      "\n",
      "There was a contention as far as a suit (in which both piety and dignity, religion and estimation, were mingled), which of the religious orders should ring to prayers first in the morning; and it was determined, that they should ring first that rose earliest. If we understand aright the dignity of this bell that tolls for our evening prayer, we would be glad to make it ours by rising early, in that application, that it might be ours as well as his, whose indeed it is.\n",
      "\n",
      "The bell doth toll for him that thinks it doth; and though it intermit again, yet from that minute that this occasion wrought upon him, he is united to God. Who casts not up his eye to the sun when it rises? but who takes off his eye from a comet when that breaks out? Who bends not his ear to any bell which upon any occasion rings? but who can remove it from that bell which is passing a piece of himself out of this world?\n",
      "\n",
      "No man is an island, entire of itself; every man is a piece of the continent, a part of the main. If a clod be washed away by the sea, Europe is the less, as well as if a promontory were, as well as if a manor of thy friend's or of thine own were: any man's death diminishes me, because I am involved in mankind, and therefore never send to know for whom the bell tolls; it tolls for thee.\n",
      "\n",
      "Neither can we call this a begging of misery, or a borrowing of misery, as though we were not miserable enough of ourselves, but must fetch in more from the next house, in taking upon us the misery of our neighbours. Truly it were an excusable covetousness if we did, for affliction is a treasure, and scarce any man hath enough of it. No man hath affliction enough that is not matured and ripened by it, and made fit for God by that affliction. If a man carry treasure in bullion, or in a wedge of gold, and have none coined into current money, his treasure will not defray him as he travels. Tribulation is treasure in the nature of it, but it is not current money in the use of it, except we get nearer and nearer our home, heaven, by it. Another man may be sick too, and sick to death, and this affliction may lie in his bowels, as gold in a mine, and be of no use to him; but this bell, that tells me of his affliction, digs out and applies that gold to me: if by this consideration of another's danger I take mine own into contemplation, and so secure myself, by making my recourse to my God, who is our only security.\n"
     ]
    }
   ],
   "source": [
    "print(data)"
   ]
  },
  {
   "cell_type": "code",
   "execution_count": null,
   "id": "cd571f57",
   "metadata": {},
   "outputs": [],
   "source": []
  },
  {
   "cell_type": "code",
   "execution_count": null,
   "id": "3bd5078a",
   "metadata": {},
   "outputs": [],
   "source": []
  },
  {
   "cell_type": "markdown",
   "id": "0b3aa773",
   "metadata": {},
   "source": [
    "#### Determine which alphanumeric symbols are used"
   ]
  },
  {
   "cell_type": "code",
   "execution_count": 3,
   "id": "f4c0b98e",
   "metadata": {},
   "outputs": [],
   "source": [
    "my_letters = set(letter for letter in data)"
   ]
  },
  {
   "cell_type": "code",
   "execution_count": 4,
   "id": "9079300b",
   "metadata": {},
   "outputs": [
    {
     "data": {
      "text/plain": [
       "{'\\n',\n",
       " ' ',\n",
       " \"'\",\n",
       " '(',\n",
       " ')',\n",
       " ',',\n",
       " '.',\n",
       " ':',\n",
       " ';',\n",
       " '?',\n",
       " 'A',\n",
       " 'E',\n",
       " 'G',\n",
       " 'I',\n",
       " 'N',\n",
       " 'P',\n",
       " 'T',\n",
       " 'W',\n",
       " 'a',\n",
       " 'b',\n",
       " 'c',\n",
       " 'd',\n",
       " 'e',\n",
       " 'f',\n",
       " 'g',\n",
       " 'h',\n",
       " 'i',\n",
       " 'j',\n",
       " 'k',\n",
       " 'l',\n",
       " 'm',\n",
       " 'n',\n",
       " 'o',\n",
       " 'p',\n",
       " 'r',\n",
       " 's',\n",
       " 't',\n",
       " 'u',\n",
       " 'v',\n",
       " 'w',\n",
       " 'x',\n",
       " 'y',\n",
       " 'z'}"
      ]
     },
     "execution_count": 4,
     "metadata": {},
     "output_type": "execute_result"
    }
   ],
   "source": [
    "my_letters"
   ]
  },
  {
   "cell_type": "code",
   "execution_count": null,
   "id": "c786b9f7",
   "metadata": {},
   "outputs": [],
   "source": []
  },
  {
   "cell_type": "code",
   "execution_count": null,
   "id": "6dda8dd6",
   "metadata": {},
   "outputs": [],
   "source": []
  },
  {
   "cell_type": "markdown",
   "id": "a77cd45c",
   "metadata": {},
   "source": [
    "#### Assuming everything is lowercase, now what letters are used?"
   ]
  },
  {
   "cell_type": "code",
   "execution_count": 5,
   "id": "13088bdd",
   "metadata": {},
   "outputs": [],
   "source": [
    "my_letters = set(letter for letter in data.lower())"
   ]
  },
  {
   "cell_type": "code",
   "execution_count": 6,
   "id": "e337c060",
   "metadata": {},
   "outputs": [
    {
     "data": {
      "text/plain": [
       "{'\\n',\n",
       " ' ',\n",
       " \"'\",\n",
       " '(',\n",
       " ')',\n",
       " ',',\n",
       " '.',\n",
       " ':',\n",
       " ';',\n",
       " '?',\n",
       " 'a',\n",
       " 'b',\n",
       " 'c',\n",
       " 'd',\n",
       " 'e',\n",
       " 'f',\n",
       " 'g',\n",
       " 'h',\n",
       " 'i',\n",
       " 'j',\n",
       " 'k',\n",
       " 'l',\n",
       " 'm',\n",
       " 'n',\n",
       " 'o',\n",
       " 'p',\n",
       " 'r',\n",
       " 's',\n",
       " 't',\n",
       " 'u',\n",
       " 'v',\n",
       " 'w',\n",
       " 'x',\n",
       " 'y',\n",
       " 'z'}"
      ]
     },
     "execution_count": 6,
     "metadata": {},
     "output_type": "execute_result"
    }
   ],
   "source": [
    "my_letters"
   ]
  },
  {
   "cell_type": "code",
   "execution_count": null,
   "id": "abface13",
   "metadata": {},
   "outputs": [],
   "source": []
  },
  {
   "cell_type": "code",
   "execution_count": null,
   "id": "61301807",
   "metadata": {},
   "outputs": [],
   "source": []
  },
  {
   "cell_type": "markdown",
   "id": "b9d9abdf",
   "metadata": {},
   "source": [
    "#### How many of each are there?"
   ]
  },
  {
   "cell_type": "code",
   "execution_count": null,
   "id": "adf9ffa0",
   "metadata": {},
   "outputs": [],
   "source": []
  },
  {
   "cell_type": "code",
   "execution_count": null,
   "id": "e0557430",
   "metadata": {},
   "outputs": [],
   "source": []
  },
  {
   "cell_type": "code",
   "execution_count": null,
   "id": "7ac4c329",
   "metadata": {},
   "outputs": [],
   "source": []
  }
 ],
 "metadata": {
  "kernelspec": {
   "display_name": "Python 3 (ipykernel)",
   "language": "python",
   "name": "python3"
  },
  "language_info": {
   "codemirror_mode": {
    "name": "ipython",
    "version": 3
   },
   "file_extension": ".py",
   "mimetype": "text/x-python",
   "name": "python",
   "nbconvert_exporter": "python",
   "pygments_lexer": "ipython3",
   "version": "3.8.12"
  },
  "varInspector": {
   "cols": {
    "lenName": 16,
    "lenType": 16,
    "lenVar": 40
   },
   "kernels_config": {
    "python": {
     "delete_cmd_postfix": "",
     "delete_cmd_prefix": "del ",
     "library": "var_list.py",
     "varRefreshCmd": "print(var_dic_list())"
    },
    "r": {
     "delete_cmd_postfix": ") ",
     "delete_cmd_prefix": "rm(",
     "library": "var_list.r",
     "varRefreshCmd": "cat(var_dic_list()) "
    }
   },
   "types_to_exclude": [
    "module",
    "function",
    "builtin_function_or_method",
    "instance",
    "_Feature"
   ],
   "window_display": false
  }
 },
 "nbformat": 4,
 "nbformat_minor": 5
}
